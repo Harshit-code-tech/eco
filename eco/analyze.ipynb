{
 "cells": [
  {
   "cell_type": "code",
   "id": "initial_id",
   "metadata": {
    "collapsed": true
   },
   "source": "import pandas as pd\n",
   "outputs": [],
   "execution_count": null
  },
  {
   "metadata": {},
   "cell_type": "markdown",
   "source": [
    "import pandas as pd\n",
    "\n",
    "# Load the FDI and GDP datasets with additional parameters to handle errors\n",
    "fdi_data = pd.read_csv(\n",
    "    '/home/hgidea/Desktop/Coding/Python/ai_ml practise/ml/eco/fdi_data.csv',\n",
    "    sep=',',  # Specify the correct delimiter if it's not a comma\n",
    "    on_bad_lines='skip'  # Skip lines with too many fields\n",
    ")\n",
    "gdp_data=pd.read_csv(\n",
    "    '/home/hgidea/Desktop/Coding/Python/ai_ml practise/ml/eco/gdp_data.csv',\n",
    "    sep=',',  # Specify the correct delimiter if it's not a comma\n",
    "    on_bad_lines='skip'  # Skip lines with too many fields\n",
    ")"
   ],
   "id": "55c711298d046345"
  },
  {
   "metadata": {},
   "cell_type": "markdown",
   "source": [
    "# Reshape FDI data from wide to long format (melting)\n",
    "fdi_data_melted = pd.melt(fdi_data, id_vars=[\"Country Name\", \"Country Code\", \"Indicator Name\", \"Indicator Code\"],\n",
    "                          var_name=\"Year\", value_name=\"FDI_inflows\")\n"
   ],
   "id": "36c2f4e715327348"
  },
  {
   "metadata": {},
   "cell_type": "markdown",
   "source": "print(fdi_data.columns)",
   "id": "af5cdcc9070b77d9"
  },
  {
   "metadata": {},
   "cell_type": "markdown",
   "source": "fdi_data = pd.read_csv('fdi_data.csv', encoding='ISO-8859-1')  # or 'latin1'\n",
   "id": "c7bd99b10962418d"
  },
  {
   "metadata": {},
   "cell_type": "markdown",
   "source": "print(fdi_data.head())\n",
   "id": "fb3ec1001e5c00e0"
  },
  {
   "metadata": {
    "ExecuteTime": {
     "end_time": "2024-10-13T07:42:19.601208Z",
     "start_time": "2024-10-13T07:42:19.593373Z"
    }
   },
   "cell_type": "code",
   "source": "fdi_data = pd.read_csv('fdi_data.csv', skiprows=3)  # Skip first 3 rows if they're metadata\n",
   "id": "229367b64b7bf0bb",
   "outputs": [],
   "execution_count": 2
  },
  {
   "metadata": {
    "ExecuteTime": {
     "end_time": "2024-10-13T07:42:19.749772Z",
     "start_time": "2024-10-13T07:42:19.741060Z"
    }
   },
   "cell_type": "code",
   "source": "print(fdi_data.head())",
   "id": "fd3ecd2975cf381e",
   "outputs": [
    {
     "name": "stdout",
     "output_type": "stream",
     "text": [
      "                  Country Name Country Code  \\\n",
      "0                        Aruba          ABW   \n",
      "1  Africa Eastern and Southern          AFE   \n",
      "2                  Afghanistan          AFG   \n",
      "3   Africa Western and Central          AFW   \n",
      "4                       Angola          AGO   \n",
      "\n",
      "                                      Indicator Name  Indicator Code  1960  \\\n",
      "0  Foreign direct investment, net (BoP, current US$)  BN.KLT.DINV.CD   NaN   \n",
      "1  Foreign direct investment, net (BoP, current US$)  BN.KLT.DINV.CD   NaN   \n",
      "2  Foreign direct investment, net (BoP, current US$)  BN.KLT.DINV.CD   NaN   \n",
      "3  Foreign direct investment, net (BoP, current US$)  BN.KLT.DINV.CD   NaN   \n",
      "4  Foreign direct investment, net (BoP, current US$)  BN.KLT.DINV.CD   NaN   \n",
      "\n",
      "   1961  1962  1963  1964  1965  ...          2015          2016  \\\n",
      "0   NaN   NaN   NaN   NaN   NaN  ...  3.720048e+07 -2.796959e+07   \n",
      "1   NaN   NaN   NaN   NaN   NaN  ...           NaN           NaN   \n",
      "2   NaN   NaN   NaN   NaN   NaN  ... -1.669836e+08 -7.958527e+07   \n",
      "3   NaN   NaN   NaN   NaN   NaN  ...           NaN           NaN   \n",
      "4   NaN   NaN   NaN   NaN   NaN  ... -1.081309e+10  4.525226e+08   \n",
      "\n",
      "           2017          2018          2019          2020          2021  \\\n",
      "0 -7.928292e+07 -1.136919e+08  1.349844e+08 -1.410238e+08 -1.384008e+08   \n",
      "1           NaN           NaN           NaN           NaN           NaN   \n",
      "2 -4.027316e+07 -8.063140e+07  2.916493e+06  2.425833e+07           NaN   \n",
      "3           NaN           NaN           NaN           NaN           NaN   \n",
      "4  8.749300e+09  6.461791e+09  1.749053e+09  1.956983e+09  3.297746e+09   \n",
      "\n",
      "           2022          2023  Unnamed: 68  \n",
      "0 -1.246943e+08           NaN          NaN  \n",
      "1           NaN           NaN          NaN  \n",
      "2           NaN           NaN          NaN  \n",
      "3           NaN           NaN          NaN  \n",
      "4  6.639719e+09  2.152988e+09          NaN  \n",
      "\n",
      "[5 rows x 69 columns]\n"
     ]
    }
   ],
   "execution_count": 3
  },
  {
   "metadata": {
    "ExecuteTime": {
     "end_time": "2024-10-13T07:42:19.825990Z",
     "start_time": "2024-10-13T07:42:19.813016Z"
    }
   },
   "cell_type": "code",
   "source": [
    "import pandas as pd\n",
    "\n",
    "# Load the FDI dataset\n",
    "fdi_data = pd.read_csv(\n",
    "    'fdi_data.csv',\n",
    "    sep=',',           # Try changing to sep=';' or '\\t' if it's not comma-delimited\n",
    "    skiprows=3,        # Skip the first 3 rows if they contain metadata\n",
    "    on_bad_lines='skip'  # Skip problematic rows\n",
    ")\n",
    "\n",
    "print(fdi_data.head())  # Preview the first few rows\n"
   ],
   "id": "6aec6c6e37b8899e",
   "outputs": [
    {
     "name": "stdout",
     "output_type": "stream",
     "text": [
      "                  Country Name Country Code  \\\n",
      "0                        Aruba          ABW   \n",
      "1  Africa Eastern and Southern          AFE   \n",
      "2                  Afghanistan          AFG   \n",
      "3   Africa Western and Central          AFW   \n",
      "4                       Angola          AGO   \n",
      "\n",
      "                                      Indicator Name  Indicator Code  1960  \\\n",
      "0  Foreign direct investment, net (BoP, current US$)  BN.KLT.DINV.CD   NaN   \n",
      "1  Foreign direct investment, net (BoP, current US$)  BN.KLT.DINV.CD   NaN   \n",
      "2  Foreign direct investment, net (BoP, current US$)  BN.KLT.DINV.CD   NaN   \n",
      "3  Foreign direct investment, net (BoP, current US$)  BN.KLT.DINV.CD   NaN   \n",
      "4  Foreign direct investment, net (BoP, current US$)  BN.KLT.DINV.CD   NaN   \n",
      "\n",
      "   1961  1962  1963  1964  1965  ...          2015          2016  \\\n",
      "0   NaN   NaN   NaN   NaN   NaN  ...  3.720048e+07 -2.796959e+07   \n",
      "1   NaN   NaN   NaN   NaN   NaN  ...           NaN           NaN   \n",
      "2   NaN   NaN   NaN   NaN   NaN  ... -1.669836e+08 -7.958527e+07   \n",
      "3   NaN   NaN   NaN   NaN   NaN  ...           NaN           NaN   \n",
      "4   NaN   NaN   NaN   NaN   NaN  ... -1.081309e+10  4.525226e+08   \n",
      "\n",
      "           2017          2018          2019          2020          2021  \\\n",
      "0 -7.928292e+07 -1.136919e+08  1.349844e+08 -1.410238e+08 -1.384008e+08   \n",
      "1           NaN           NaN           NaN           NaN           NaN   \n",
      "2 -4.027316e+07 -8.063140e+07  2.916493e+06  2.425833e+07           NaN   \n",
      "3           NaN           NaN           NaN           NaN           NaN   \n",
      "4  8.749300e+09  6.461791e+09  1.749053e+09  1.956983e+09  3.297746e+09   \n",
      "\n",
      "           2022          2023  Unnamed: 68  \n",
      "0 -1.246943e+08           NaN          NaN  \n",
      "1           NaN           NaN          NaN  \n",
      "2           NaN           NaN          NaN  \n",
      "3           NaN           NaN          NaN  \n",
      "4  6.639719e+09  2.152988e+09          NaN  \n",
      "\n",
      "[5 rows x 69 columns]\n"
     ]
    }
   ],
   "execution_count": 4
  },
  {
   "metadata": {
    "ExecuteTime": {
     "end_time": "2024-10-13T07:42:19.887569Z",
     "start_time": "2024-10-13T07:42:19.878086Z"
    }
   },
   "cell_type": "code",
   "source": [
    "import pandas as pd\n",
    "gdp_data=pd.read_csv('gdp_data.csv',skiprows=3)"
   ],
   "id": "d1385a3fa6921cbc",
   "outputs": [],
   "execution_count": 5
  },
  {
   "metadata": {
    "ExecuteTime": {
     "end_time": "2024-10-13T07:42:19.937474Z",
     "start_time": "2024-10-13T07:42:19.930718Z"
    }
   },
   "cell_type": "code",
   "source": "print(gdp_data.head())",
   "id": "3b1c6c51daa728e0",
   "outputs": [
    {
     "name": "stdout",
     "output_type": "stream",
     "text": [
      "                  Country Name Country Code         Indicator Name  \\\n",
      "0                        Aruba          ABW  GDP growth (annual %)   \n",
      "1  Africa Eastern and Southern          AFE  GDP growth (annual %)   \n",
      "2                  Afghanistan          AFG  GDP growth (annual %)   \n",
      "3   Africa Western and Central          AFW  GDP growth (annual %)   \n",
      "4                       Angola          AGO  GDP growth (annual %)   \n",
      "\n",
      "      Indicator Code  1960      1961      1962      1963      1964      1965  \\\n",
      "0  NY.GDP.MKTP.KD.ZG   NaN       NaN       NaN       NaN       NaN       NaN   \n",
      "1  NY.GDP.MKTP.KD.ZG   NaN  0.460106  7.868013  5.616400  4.668135  5.138990   \n",
      "2  NY.GDP.MKTP.KD.ZG   NaN       NaN       NaN       NaN       NaN       NaN   \n",
      "3  NY.GDP.MKTP.KD.ZG   NaN  1.873455  3.707643  7.145784  5.406403  4.102491   \n",
      "4  NY.GDP.MKTP.KD.ZG   NaN       NaN       NaN       NaN       NaN       NaN   \n",
      "\n",
      "   ...      2015      2016      2017      2018      2019       2020  \\\n",
      "0  ... -0.623626  1.719625  7.048533  2.381730 -2.302836 -23.982581   \n",
      "1  ...  3.011572  2.183581  2.651400  2.681718  2.189259  -2.780379   \n",
      "2  ...  1.451315  2.260314  2.647003  1.189228  3.911603  -2.351101   \n",
      "3  ...  2.813979  0.141489  2.284961  2.842645  3.222029  -1.004417   \n",
      "4  ...  0.943572 -2.580111 -0.147150 -1.316362 -0.702273  -5.638215   \n",
      "\n",
      "        2021       2022      2023  Unnamed: 68  \n",
      "0  27.639357  10.458317       NaN          NaN  \n",
      "1   4.497380   3.554422  2.622310          NaN  \n",
      "2 -20.738839  -6.240172       NaN          NaN  \n",
      "3   3.994854   3.784486  3.342776          NaN  \n",
      "4   1.199211   3.045403  0.856001          NaN  \n",
      "\n",
      "[5 rows x 69 columns]\n"
     ]
    }
   ],
   "execution_count": 6
  },
  {
   "metadata": {
    "ExecuteTime": {
     "end_time": "2024-10-13T07:42:19.997495Z",
     "start_time": "2024-10-13T07:42:19.989165Z"
    }
   },
   "cell_type": "code",
   "source": [
    "# Melting FDI data from wide to long format\n",
    "fdi_data_melted = pd.melt(fdi_data, id_vars=[\"Country Name\", \"Country Code\", \"Indicator Name\", \"Indicator Code\"],\n",
    "                          var_name=\"Year\", value_name=\"FDI_inflows\")"
   ],
   "id": "7328808531f1c5ec",
   "outputs": [],
   "execution_count": 7
  },
  {
   "metadata": {
    "ExecuteTime": {
     "end_time": "2024-10-13T07:42:20.046457Z",
     "start_time": "2024-10-13T07:42:20.036148Z"
    }
   },
   "cell_type": "code",
   "source": [
    "# Melting GDP data from wide to long format\n",
    "gdp_data_melted = pd.melt(gdp_data, id_vars=[\"Country Name\", \"Country Code\", \"Indicator Name\", \"Indicator Code\"],\n",
    "                          var_name=\"Year\", value_name=\"GDP_growth\")"
   ],
   "id": "43c5a3c6a0d2db26",
   "outputs": [],
   "execution_count": 8
  },
  {
   "metadata": {
    "ExecuteTime": {
     "end_time": "2024-10-13T07:42:20.292503Z",
     "start_time": "2024-10-13T07:42:20.093229Z"
    }
   },
   "cell_type": "code",
   "source": [
    "# Convert 'Year' to numeric for consistency\n",
    "fdi_data_melted['Year'] = pd.to_numeric(fdi_data_melted['Year'])\n"
   ],
   "id": "8a53166bafcb1df9",
   "outputs": [
    {
     "ename": "ValueError",
     "evalue": "Unable to parse string \"Unnamed: 68\" at position 17024",
     "output_type": "error",
     "traceback": [
      "\u001B[0;31m---------------------------------------------------------------------------\u001B[0m",
      "\u001B[0;31mValueError\u001B[0m                                Traceback (most recent call last)",
      "File \u001B[0;32mlib.pyx:2391\u001B[0m, in \u001B[0;36mpandas._libs.lib.maybe_convert_numeric\u001B[0;34m()\u001B[0m\n",
      "\u001B[0;31mValueError\u001B[0m: Unable to parse string \"Unnamed: 68\"",
      "\nDuring handling of the above exception, another exception occurred:\n",
      "\u001B[0;31mValueError\u001B[0m                                Traceback (most recent call last)",
      "Cell \u001B[0;32mIn[9], line 2\u001B[0m\n\u001B[1;32m      1\u001B[0m \u001B[38;5;66;03m# Convert 'Year' to numeric for consistency\u001B[39;00m\n\u001B[0;32m----> 2\u001B[0m fdi_data_melted[\u001B[38;5;124m'\u001B[39m\u001B[38;5;124mYear\u001B[39m\u001B[38;5;124m'\u001B[39m] \u001B[38;5;241m=\u001B[39m \u001B[43mpd\u001B[49m\u001B[38;5;241;43m.\u001B[39;49m\u001B[43mto_numeric\u001B[49m\u001B[43m(\u001B[49m\u001B[43mfdi_data_melted\u001B[49m\u001B[43m[\u001B[49m\u001B[38;5;124;43m'\u001B[39;49m\u001B[38;5;124;43mYear\u001B[39;49m\u001B[38;5;124;43m'\u001B[39;49m\u001B[43m]\u001B[49m\u001B[43m)\u001B[49m\n",
      "File \u001B[0;32m~/Desktop/Coding/Python/.venv/lib/python3.12/site-packages/pandas/core/tools/numeric.py:232\u001B[0m, in \u001B[0;36mto_numeric\u001B[0;34m(arg, errors, downcast, dtype_backend)\u001B[0m\n\u001B[1;32m    230\u001B[0m coerce_numeric \u001B[38;5;241m=\u001B[39m errors \u001B[38;5;129;01mnot\u001B[39;00m \u001B[38;5;129;01min\u001B[39;00m (\u001B[38;5;124m\"\u001B[39m\u001B[38;5;124mignore\u001B[39m\u001B[38;5;124m\"\u001B[39m, \u001B[38;5;124m\"\u001B[39m\u001B[38;5;124mraise\u001B[39m\u001B[38;5;124m\"\u001B[39m)\n\u001B[1;32m    231\u001B[0m \u001B[38;5;28;01mtry\u001B[39;00m:\n\u001B[0;32m--> 232\u001B[0m     values, new_mask \u001B[38;5;241m=\u001B[39m \u001B[43mlib\u001B[49m\u001B[38;5;241;43m.\u001B[39;49m\u001B[43mmaybe_convert_numeric\u001B[49m\u001B[43m(\u001B[49m\u001B[43m  \u001B[49m\u001B[38;5;66;43;03m# type: ignore[call-overload]\u001B[39;49;00m\n\u001B[1;32m    233\u001B[0m \u001B[43m        \u001B[49m\u001B[43mvalues\u001B[49m\u001B[43m,\u001B[49m\n\u001B[1;32m    234\u001B[0m \u001B[43m        \u001B[49m\u001B[38;5;28;43mset\u001B[39;49m\u001B[43m(\u001B[49m\u001B[43m)\u001B[49m\u001B[43m,\u001B[49m\n\u001B[1;32m    235\u001B[0m \u001B[43m        \u001B[49m\u001B[43mcoerce_numeric\u001B[49m\u001B[38;5;241;43m=\u001B[39;49m\u001B[43mcoerce_numeric\u001B[49m\u001B[43m,\u001B[49m\n\u001B[1;32m    236\u001B[0m \u001B[43m        \u001B[49m\u001B[43mconvert_to_masked_nullable\u001B[49m\u001B[38;5;241;43m=\u001B[39;49m\u001B[43mdtype_backend\u001B[49m\u001B[43m \u001B[49m\u001B[38;5;129;43;01mis\u001B[39;49;00m\u001B[43m \u001B[49m\u001B[38;5;129;43;01mnot\u001B[39;49;00m\u001B[43m \u001B[49m\u001B[43mlib\u001B[49m\u001B[38;5;241;43m.\u001B[39;49m\u001B[43mno_default\u001B[49m\n\u001B[1;32m    237\u001B[0m \u001B[43m        \u001B[49m\u001B[38;5;129;43;01mor\u001B[39;49;00m\u001B[43m \u001B[49m\u001B[38;5;28;43misinstance\u001B[39;49m\u001B[43m(\u001B[49m\u001B[43mvalues_dtype\u001B[49m\u001B[43m,\u001B[49m\u001B[43m \u001B[49m\u001B[43mStringDtype\u001B[49m\u001B[43m)\u001B[49m\n\u001B[1;32m    238\u001B[0m \u001B[43m        \u001B[49m\u001B[38;5;129;43;01mand\u001B[39;49;00m\u001B[43m \u001B[49m\u001B[38;5;129;43;01mnot\u001B[39;49;00m\u001B[43m \u001B[49m\u001B[43mvalues_dtype\u001B[49m\u001B[38;5;241;43m.\u001B[39;49m\u001B[43mstorage\u001B[49m\u001B[43m \u001B[49m\u001B[38;5;241;43m==\u001B[39;49m\u001B[43m \u001B[49m\u001B[38;5;124;43m\"\u001B[39;49m\u001B[38;5;124;43mpyarrow_numpy\u001B[39;49m\u001B[38;5;124;43m\"\u001B[39;49m\u001B[43m,\u001B[49m\n\u001B[1;32m    239\u001B[0m \u001B[43m    \u001B[49m\u001B[43m)\u001B[49m\n\u001B[1;32m    240\u001B[0m \u001B[38;5;28;01mexcept\u001B[39;00m (\u001B[38;5;167;01mValueError\u001B[39;00m, \u001B[38;5;167;01mTypeError\u001B[39;00m):\n\u001B[1;32m    241\u001B[0m     \u001B[38;5;28;01mif\u001B[39;00m errors \u001B[38;5;241m==\u001B[39m \u001B[38;5;124m\"\u001B[39m\u001B[38;5;124mraise\u001B[39m\u001B[38;5;124m\"\u001B[39m:\n",
      "File \u001B[0;32mlib.pyx:2433\u001B[0m, in \u001B[0;36mpandas._libs.lib.maybe_convert_numeric\u001B[0;34m()\u001B[0m\n",
      "\u001B[0;31mValueError\u001B[0m: Unable to parse string \"Unnamed: 68\" at position 17024"
     ]
    }
   ],
   "execution_count": 9
  },
  {
   "metadata": {},
   "cell_type": "code",
   "outputs": [],
   "execution_count": null,
   "source": "",
   "id": "e274d0d79288d5a7"
  },
  {
   "metadata": {
    "ExecuteTime": {
     "end_time": "2024-10-13T07:42:34.925513Z",
     "start_time": "2024-10-13T07:42:34.920278Z"
    }
   },
   "cell_type": "code",
   "source": [
    "# Check the first few rows to understand the structure\n",
    "print(fdi_data_melted.head())\n",
    "\n",
    "# Check for unique values in the 'Year' column\n",
    "print(fdi_data_melted['Year'].unique())\n"
   ],
   "id": "d0784b65b873d66f",
   "outputs": [
    {
     "name": "stdout",
     "output_type": "stream",
     "text": [
      "                  Country Name Country Code  \\\n",
      "0                        Aruba          ABW   \n",
      "1  Africa Eastern and Southern          AFE   \n",
      "2                  Afghanistan          AFG   \n",
      "3   Africa Western and Central          AFW   \n",
      "4                       Angola          AGO   \n",
      "\n",
      "                                      Indicator Name  Indicator Code  Year  \\\n",
      "0  Foreign direct investment, net (BoP, current US$)  BN.KLT.DINV.CD  1960   \n",
      "1  Foreign direct investment, net (BoP, current US$)  BN.KLT.DINV.CD  1960   \n",
      "2  Foreign direct investment, net (BoP, current US$)  BN.KLT.DINV.CD  1960   \n",
      "3  Foreign direct investment, net (BoP, current US$)  BN.KLT.DINV.CD  1960   \n",
      "4  Foreign direct investment, net (BoP, current US$)  BN.KLT.DINV.CD  1960   \n",
      "\n",
      "   FDI_inflows  \n",
      "0          NaN  \n",
      "1          NaN  \n",
      "2          NaN  \n",
      "3          NaN  \n",
      "4          NaN  \n",
      "['1960' '1961' '1962' '1963' '1964' '1965' '1966' '1967' '1968' '1969'\n",
      " '1970' '1971' '1972' '1973' '1974' '1975' '1976' '1977' '1978' '1979'\n",
      " '1980' '1981' '1982' '1983' '1984' '1985' '1986' '1987' '1988' '1989'\n",
      " '1990' '1991' '1992' '1993' '1994' '1995' '1996' '1997' '1998' '1999'\n",
      " '2000' '2001' '2002' '2003' '2004' '2005' '2006' '2007' '2008' '2009'\n",
      " '2010' '2011' '2012' '2013' '2014' '2015' '2016' '2017' '2018' '2019'\n",
      " '2020' '2021' '2022' '2023' 'Unnamed: 68']\n"
     ]
    }
   ],
   "execution_count": 10
  },
  {
   "metadata": {
    "ExecuteTime": {
     "end_time": "2024-10-13T07:42:38.241682Z",
     "start_time": "2024-10-13T07:42:38.237998Z"
    }
   },
   "cell_type": "code",
   "source": [
    "# Drop columns that have irrelevant data\n",
    "fdi_data = fdi_data.loc[:, ~fdi_data.columns.str.contains('^Unnamed')]\n"
   ],
   "id": "482bd131aba30619",
   "outputs": [],
   "execution_count": 11
  },
  {
   "metadata": {
    "ExecuteTime": {
     "end_time": "2024-10-13T07:42:38.583900Z",
     "start_time": "2024-10-13T07:42:38.568846Z"
    }
   },
   "cell_type": "code",
   "source": [
    "# Filter out non-numeric values in the 'Year' column\n",
    "fdi_data_melted = fdi_data_melted[fdi_data_melted['Year'].str.isnumeric()]\n",
    "\n",
    "# Now convert the 'Year' column to numeric\n",
    "fdi_data_melted['Year'] = pd.to_numeric(fdi_data_melted['Year'])\n"
   ],
   "id": "21771a09064bab1c",
   "outputs": [],
   "execution_count": 12
  },
  {
   "metadata": {
    "ExecuteTime": {
     "end_time": "2024-10-13T07:42:38.982284Z",
     "start_time": "2024-10-13T07:42:38.977990Z"
    }
   },
   "cell_type": "code",
   "source": [
    "# Check for missing values in the Year column\n",
    "fdi_data_melted = fdi_data_melted.dropna(subset=['Year'])\n"
   ],
   "id": "dc1ce40f13ac6749",
   "outputs": [],
   "execution_count": 13
  },
  {
   "metadata": {
    "ExecuteTime": {
     "end_time": "2024-10-13T07:42:39.437620Z",
     "start_time": "2024-10-13T07:42:39.399347Z"
    }
   },
   "cell_type": "code",
   "source": "gdp_data_melted['Year'] = pd.to_numeric(gdp_data_melted['Year'])",
   "id": "1666624ead4be64d",
   "outputs": [
    {
     "ename": "ValueError",
     "evalue": "Unable to parse string \"Unnamed: 68\" at position 17024",
     "output_type": "error",
     "traceback": [
      "\u001B[0;31m---------------------------------------------------------------------------\u001B[0m",
      "\u001B[0;31mValueError\u001B[0m                                Traceback (most recent call last)",
      "File \u001B[0;32mlib.pyx:2391\u001B[0m, in \u001B[0;36mpandas._libs.lib.maybe_convert_numeric\u001B[0;34m()\u001B[0m\n",
      "\u001B[0;31mValueError\u001B[0m: Unable to parse string \"Unnamed: 68\"",
      "\nDuring handling of the above exception, another exception occurred:\n",
      "\u001B[0;31mValueError\u001B[0m                                Traceback (most recent call last)",
      "Cell \u001B[0;32mIn[14], line 1\u001B[0m\n\u001B[0;32m----> 1\u001B[0m gdp_data_melted[\u001B[38;5;124m'\u001B[39m\u001B[38;5;124mYear\u001B[39m\u001B[38;5;124m'\u001B[39m] \u001B[38;5;241m=\u001B[39m \u001B[43mpd\u001B[49m\u001B[38;5;241;43m.\u001B[39;49m\u001B[43mto_numeric\u001B[49m\u001B[43m(\u001B[49m\u001B[43mgdp_data_melted\u001B[49m\u001B[43m[\u001B[49m\u001B[38;5;124;43m'\u001B[39;49m\u001B[38;5;124;43mYear\u001B[39;49m\u001B[38;5;124;43m'\u001B[39;49m\u001B[43m]\u001B[49m\u001B[43m)\u001B[49m\n",
      "File \u001B[0;32m~/Desktop/Coding/Python/.venv/lib/python3.12/site-packages/pandas/core/tools/numeric.py:232\u001B[0m, in \u001B[0;36mto_numeric\u001B[0;34m(arg, errors, downcast, dtype_backend)\u001B[0m\n\u001B[1;32m    230\u001B[0m coerce_numeric \u001B[38;5;241m=\u001B[39m errors \u001B[38;5;129;01mnot\u001B[39;00m \u001B[38;5;129;01min\u001B[39;00m (\u001B[38;5;124m\"\u001B[39m\u001B[38;5;124mignore\u001B[39m\u001B[38;5;124m\"\u001B[39m, \u001B[38;5;124m\"\u001B[39m\u001B[38;5;124mraise\u001B[39m\u001B[38;5;124m\"\u001B[39m)\n\u001B[1;32m    231\u001B[0m \u001B[38;5;28;01mtry\u001B[39;00m:\n\u001B[0;32m--> 232\u001B[0m     values, new_mask \u001B[38;5;241m=\u001B[39m \u001B[43mlib\u001B[49m\u001B[38;5;241;43m.\u001B[39;49m\u001B[43mmaybe_convert_numeric\u001B[49m\u001B[43m(\u001B[49m\u001B[43m  \u001B[49m\u001B[38;5;66;43;03m# type: ignore[call-overload]\u001B[39;49;00m\n\u001B[1;32m    233\u001B[0m \u001B[43m        \u001B[49m\u001B[43mvalues\u001B[49m\u001B[43m,\u001B[49m\n\u001B[1;32m    234\u001B[0m \u001B[43m        \u001B[49m\u001B[38;5;28;43mset\u001B[39;49m\u001B[43m(\u001B[49m\u001B[43m)\u001B[49m\u001B[43m,\u001B[49m\n\u001B[1;32m    235\u001B[0m \u001B[43m        \u001B[49m\u001B[43mcoerce_numeric\u001B[49m\u001B[38;5;241;43m=\u001B[39;49m\u001B[43mcoerce_numeric\u001B[49m\u001B[43m,\u001B[49m\n\u001B[1;32m    236\u001B[0m \u001B[43m        \u001B[49m\u001B[43mconvert_to_masked_nullable\u001B[49m\u001B[38;5;241;43m=\u001B[39;49m\u001B[43mdtype_backend\u001B[49m\u001B[43m \u001B[49m\u001B[38;5;129;43;01mis\u001B[39;49;00m\u001B[43m \u001B[49m\u001B[38;5;129;43;01mnot\u001B[39;49;00m\u001B[43m \u001B[49m\u001B[43mlib\u001B[49m\u001B[38;5;241;43m.\u001B[39;49m\u001B[43mno_default\u001B[49m\n\u001B[1;32m    237\u001B[0m \u001B[43m        \u001B[49m\u001B[38;5;129;43;01mor\u001B[39;49;00m\u001B[43m \u001B[49m\u001B[38;5;28;43misinstance\u001B[39;49m\u001B[43m(\u001B[49m\u001B[43mvalues_dtype\u001B[49m\u001B[43m,\u001B[49m\u001B[43m \u001B[49m\u001B[43mStringDtype\u001B[49m\u001B[43m)\u001B[49m\n\u001B[1;32m    238\u001B[0m \u001B[43m        \u001B[49m\u001B[38;5;129;43;01mand\u001B[39;49;00m\u001B[43m \u001B[49m\u001B[38;5;129;43;01mnot\u001B[39;49;00m\u001B[43m \u001B[49m\u001B[43mvalues_dtype\u001B[49m\u001B[38;5;241;43m.\u001B[39;49m\u001B[43mstorage\u001B[49m\u001B[43m \u001B[49m\u001B[38;5;241;43m==\u001B[39;49m\u001B[43m \u001B[49m\u001B[38;5;124;43m\"\u001B[39;49m\u001B[38;5;124;43mpyarrow_numpy\u001B[39;49m\u001B[38;5;124;43m\"\u001B[39;49m\u001B[43m,\u001B[49m\n\u001B[1;32m    239\u001B[0m \u001B[43m    \u001B[49m\u001B[43m)\u001B[49m\n\u001B[1;32m    240\u001B[0m \u001B[38;5;28;01mexcept\u001B[39;00m (\u001B[38;5;167;01mValueError\u001B[39;00m, \u001B[38;5;167;01mTypeError\u001B[39;00m):\n\u001B[1;32m    241\u001B[0m     \u001B[38;5;28;01mif\u001B[39;00m errors \u001B[38;5;241m==\u001B[39m \u001B[38;5;124m\"\u001B[39m\u001B[38;5;124mraise\u001B[39m\u001B[38;5;124m\"\u001B[39m:\n",
      "File \u001B[0;32mlib.pyx:2433\u001B[0m, in \u001B[0;36mpandas._libs.lib.maybe_convert_numeric\u001B[0;34m()\u001B[0m\n",
      "\u001B[0;31mValueError\u001B[0m: Unable to parse string \"Unnamed: 68\" at position 17024"
     ]
    }
   ],
   "execution_count": 14
  },
  {
   "metadata": {
    "ExecuteTime": {
     "end_time": "2024-10-13T07:42:39.873326Z",
     "start_time": "2024-10-13T07:42:39.871469Z"
    }
   },
   "cell_type": "code",
   "source": "",
   "id": "42f3fa7e3ac34337",
   "outputs": [],
   "execution_count": null
  },
  {
   "metadata": {
    "ExecuteTime": {
     "end_time": "2024-10-13T07:42:40.450430Z",
     "start_time": "2024-10-13T07:42:40.446623Z"
    }
   },
   "cell_type": "code",
   "source": [
    "# Check unique values in the Year column\n",
    "print(gdp_data_melted['Year'].unique())\n"
   ],
   "id": "aa3ba34236b49126",
   "outputs": [
    {
     "name": "stdout",
     "output_type": "stream",
     "text": [
      "['1960' '1961' '1962' '1963' '1964' '1965' '1966' '1967' '1968' '1969'\n",
      " '1970' '1971' '1972' '1973' '1974' '1975' '1976' '1977' '1978' '1979'\n",
      " '1980' '1981' '1982' '1983' '1984' '1985' '1986' '1987' '1988' '1989'\n",
      " '1990' '1991' '1992' '1993' '1994' '1995' '1996' '1997' '1998' '1999'\n",
      " '2000' '2001' '2002' '2003' '2004' '2005' '2006' '2007' '2008' '2009'\n",
      " '2010' '2011' '2012' '2013' '2014' '2015' '2016' '2017' '2018' '2019'\n",
      " '2020' '2021' '2022' '2023' 'Unnamed: 68']\n"
     ]
    }
   ],
   "execution_count": 15
  },
  {
   "metadata": {
    "ExecuteTime": {
     "end_time": "2024-10-13T07:42:41.128224Z",
     "start_time": "2024-10-13T07:42:41.123856Z"
    }
   },
   "cell_type": "code",
   "source": [
    "# Drop columns that contain \"Unnamed\" or any other irrelevant data\n",
    "gdp_data = gdp_data.loc[:, ~gdp_data.columns.str.contains('^Unnamed')]\n"
   ],
   "id": "c770f4f22798f436",
   "outputs": [],
   "execution_count": 16
  },
  {
   "metadata": {
    "ExecuteTime": {
     "end_time": "2024-10-13T07:42:41.596098Z",
     "start_time": "2024-10-13T07:42:41.583899Z"
    }
   },
   "cell_type": "code",
   "source": [
    "# Filter out rows where 'Year' is not numeric\n",
    "gdp_data_melted = gdp_data_melted[gdp_data_melted['Year'].str.isnumeric()]\n",
    "\n",
    "# Now convert the 'Year' column to numeric\n",
    "gdp_data_melted['Year'] = pd.to_numeric(gdp_data_melted['Year'])\n"
   ],
   "id": "8c33c3c6cf348f52",
   "outputs": [],
   "execution_count": 17
  },
  {
   "metadata": {
    "ExecuteTime": {
     "end_time": "2024-10-13T07:42:41.890659Z",
     "start_time": "2024-10-13T07:42:41.886330Z"
    }
   },
   "cell_type": "code",
   "source": [
    "# Drop rows with problematic data in the 'Year' column\n",
    "gdp_data_melted = gdp_data_melted.dropna(subset=['Year'])\n"
   ],
   "id": "c9a7560979a9d1c2",
   "outputs": [],
   "execution_count": 18
  },
  {
   "metadata": {
    "ExecuteTime": {
     "end_time": "2024-10-13T07:42:42.378745Z",
     "start_time": "2024-10-13T07:42:42.373119Z"
    }
   },
   "cell_type": "code",
   "source": [
    "# Check the first few rows to ensure the data is correct\n",
    "print(gdp_data_melted.head())\n"
   ],
   "id": "b92886fd063231ef",
   "outputs": [
    {
     "name": "stdout",
     "output_type": "stream",
     "text": [
      "                  Country Name Country Code         Indicator Name  \\\n",
      "0                        Aruba          ABW  GDP growth (annual %)   \n",
      "1  Africa Eastern and Southern          AFE  GDP growth (annual %)   \n",
      "2                  Afghanistan          AFG  GDP growth (annual %)   \n",
      "3   Africa Western and Central          AFW  GDP growth (annual %)   \n",
      "4                       Angola          AGO  GDP growth (annual %)   \n",
      "\n",
      "      Indicator Code  Year  GDP_growth  \n",
      "0  NY.GDP.MKTP.KD.ZG  1960         NaN  \n",
      "1  NY.GDP.MKTP.KD.ZG  1960         NaN  \n",
      "2  NY.GDP.MKTP.KD.ZG  1960         NaN  \n",
      "3  NY.GDP.MKTP.KD.ZG  1960         NaN  \n",
      "4  NY.GDP.MKTP.KD.ZG  1960         NaN  \n"
     ]
    }
   ],
   "execution_count": 19
  },
  {
   "metadata": {
    "ExecuteTime": {
     "end_time": "2024-10-13T07:42:42.553642Z",
     "start_time": "2024-10-13T07:42:42.548015Z"
    }
   },
   "cell_type": "code",
   "source": [
    "# Filter for India\n",
    "fdi_india = fdi_data_melted[fdi_data_melted['Country Name'] == 'India']\n",
    "gdp_india = gdp_data_melted[gdp_data_melted['Country Name'] == 'India']"
   ],
   "id": "1082105bcb15e190",
   "outputs": [],
   "execution_count": 20
  },
  {
   "metadata": {
    "ExecuteTime": {
     "end_time": "2024-10-13T07:42:42.947417Z",
     "start_time": "2024-10-13T07:42:42.943216Z"
    }
   },
   "cell_type": "code",
   "source": [
    "# Merge the datasets on 'Year'\n",
    "merged_data = pd.merge(fdi_india, gdp_india, on='Year')"
   ],
   "id": "395c48de52226282",
   "outputs": [],
   "execution_count": 21
  },
  {
   "metadata": {
    "ExecuteTime": {
     "end_time": "2024-10-13T07:42:43.343928Z",
     "start_time": "2024-10-13T07:42:43.340782Z"
    }
   },
   "cell_type": "code",
   "source": [
    "# Keep only relevant columns (Year, FDI_inflows, GDP_growth)\n",
    "merged_data = merged_data[['Year', 'FDI_inflows', 'GDP_growth']]"
   ],
   "id": "12bf1c4ad969375c",
   "outputs": [],
   "execution_count": 22
  },
  {
   "metadata": {
    "ExecuteTime": {
     "end_time": "2024-10-13T07:42:43.643260Z",
     "start_time": "2024-10-13T07:42:43.639986Z"
    }
   },
   "cell_type": "code",
   "source": [
    "# Drop any rows with missing data\n",
    "merged_data = merged_data.dropna()"
   ],
   "id": "21662f99a64005f4",
   "outputs": [],
   "execution_count": 23
  },
  {
   "metadata": {
    "ExecuteTime": {
     "end_time": "2024-10-13T07:42:43.901552Z",
     "start_time": "2024-10-13T07:42:43.897957Z"
    }
   },
   "cell_type": "code",
   "source": [
    "# Display the first few rows of the merged data\n",
    "print(merged_data.head())"
   ],
   "id": "9a1c6878b81ab80d",
   "outputs": [
    {
     "name": "stdout",
     "output_type": "stream",
     "text": [
      "    Year   FDI_inflows  GDP_growth\n",
      "15  1975  1.032625e+07    9.149912\n",
      "16  1976  7.706431e+06    1.663104\n",
      "17  1977  0.000000e+00    7.254765\n",
      "18  1978  0.000000e+00    5.712532\n",
      "19  1979  0.000000e+00   -5.238183\n"
     ]
    }
   ],
   "execution_count": 24
  },
  {
   "metadata": {
    "ExecuteTime": {
     "end_time": "2024-10-13T07:42:44.160729Z",
     "start_time": "2024-10-13T07:42:44.157129Z"
    }
   },
   "cell_type": "code",
   "source": [
    "# Check the data types of the columns\n",
    "print(merged_data.dtypes)\n"
   ],
   "id": "c083b46a7871fa4b",
   "outputs": [
    {
     "name": "stdout",
     "output_type": "stream",
     "text": [
      "Year             int64\n",
      "FDI_inflows    float64\n",
      "GDP_growth     float64\n",
      "dtype: object\n"
     ]
    }
   ],
   "execution_count": 25
  },
  {
   "metadata": {
    "ExecuteTime": {
     "end_time": "2024-10-13T07:42:44.509611Z",
     "start_time": "2024-10-13T07:42:44.507318Z"
    }
   },
   "cell_type": "code",
   "source": [
    "import matplotlib.pyplot as plt\n",
    "import seaborn as sns"
   ],
   "id": "c60432af3bc4d8ff",
   "outputs": [],
   "execution_count": 26
  },
  {
   "metadata": {
    "ExecuteTime": {
     "end_time": "2024-10-13T07:42:44.920010Z",
     "start_time": "2024-10-13T07:42:44.742646Z"
    }
   },
   "cell_type": "code",
   "source": [
    "# Scatter plot to visualize the relationship between FDI inflows and GDP growth\n",
    "plt.figure(figsize=(10,6))\n",
    "sns.scatterplot(x='FDI_inflows', y='GDP_growth', data=merged_data)\n",
    "plt.title('FDI vs GDP Growth in India')\n",
    "plt.xlabel('FDI Inflows (Current US$)')\n",
    "plt.ylabel('GDP Growth (%)')\n",
    "plt.show()"
   ],
   "id": "4ccd405bc8f55ecb",
   "outputs": [
    {
     "data": {
      "text/plain": [
       "<Figure size 1000x600 with 1 Axes>"
      ],
      "image/png": "[encoded data removed]"
     },
     "metadata": {},
     "output_type": "display_data"
    }
   ],
   "execution_count": 27
  },
  {
   "metadata": {
    "ExecuteTime": {
     "end_time": "2024-10-13T07:42:45.099781Z",
     "start_time": "2024-10-13T07:42:45.096959Z"
    }
   },
   "cell_type": "code",
   "source": [
    "# Calculate the correlation between FDI inflows and GDP growth\n",
    "correlation = merged_data['FDI_inflows'].corr(merged_data['GDP_growth'])\n",
    "print(f'Correlation between FDI inflows and GDP growth: {correlation}')\n",
    "\n"
   ],
   "id": "1798a2429ee035a9",
   "outputs": [
    {
     "name": "stdout",
     "output_type": "stream",
     "text": [
      "Correlation between FDI inflows and GDP growth: 0.08424089274102149\n"
     ]
    }
   ],
   "execution_count": 28
  },
  {
   "metadata": {
    "ExecuteTime": {
     "end_time": "2024-10-13T07:42:45.713015Z",
     "start_time": "2024-10-13T07:42:45.508955Z"
    }
   },
   "cell_type": "code",
   "source": [
    "# Scatter plot with regression line\n",
    "plt.figure(figsize=(10,6))\n",
    "sns.regplot(x='FDI_inflows', y='GDP_growth', data=merged_data)\n",
    "plt.title('FDI vs GDP Growth in India')\n",
    "plt.xlabel('FDI Inflows (Current US$)')\n",
    "plt.ylabel('GDP Growth (%)')\n",
    "plt.show()\n"
   ],
   "id": "d23c38531d0833b6",
   "outputs": [
    {
     "data": {
      "text/plain": [
       "<Figure size 1000x600 with 1 Axes>"
      ],
      "image/png": "[encoded data removed]"
     },
     "metadata": {},
     "output_type": "display_data"
    }
   ],
   "execution_count": 29
  },
  {
   "metadata": {
    "ExecuteTime": {
     "end_time": "2024-10-13T07:42:45.739374Z",
     "start_time": "2024-10-13T07:42:45.737157Z"
    }
   },
   "cell_type": "code",
   "source": "",
   "id": "e7bb6dadd5d2bb44",
   "outputs": [],
   "execution_count": null
  },
  {
   "metadata": {
    "ExecuteTime": {
     "end_time": "2024-10-13T07:42:46.063231Z",
     "start_time": "2024-10-13T07:42:45.994408Z"
    }
   },
   "cell_type": "code",
   "source": [
    "# Save the latest FDI data to a CSV file\n",
    "fdi_data_melted.to_csv('/home/hgidea/Desktop/Coding/Python/ai_ml practise/ml/eco/latest_fdi_data.csv', index=False)\n",
    "\n",
    "# Save the latest GDP data to a CSV file\n",
    "gdp_data_melted.to_csv('/home/hgidea/Desktop/Coding/Python/ai_ml practise/ml/eco/latest_gdp_data.csv', index=False)"
   ],
   "id": "245da52e9d464b71",
   "outputs": [],
   "execution_count": 30
  },
  {
   "metadata": {
    "ExecuteTime": {
     "end_time": "2024-10-13T07:42:46.256238Z",
     "start_time": "2024-10-13T07:42:46.252583Z"
    }
   },
   "cell_type": "code",
   "source": [
    "# Create 2-year and 3-year lags for FDI\n",
    "merged_data['FDI_Lag_2'] = merged_data['FDI_inflows'].shift(2)\n",
    "merged_data['FDI_Lag_3'] = merged_data['FDI_inflows'].shift(3)"
   ],
   "id": "74d083d89b5fab86",
   "outputs": [],
   "execution_count": 31
  },
  {
   "metadata": {
    "ExecuteTime": {
     "end_time": "2024-10-13T07:42:46.512189Z",
     "start_time": "2024-10-13T07:42:46.509060Z"
    }
   },
   "cell_type": "code",
   "source": [
    "# Drop rows with NaN values\n",
    "merged_data = merged_data.dropna()"
   ],
   "id": "41651bbc56692660",
   "outputs": [],
   "execution_count": 32
  },
  {
   "metadata": {
    "ExecuteTime": {
     "end_time": "2024-10-13T07:42:46.759328Z",
     "start_time": "2024-10-13T07:42:46.753658Z"
    }
   },
   "cell_type": "code",
   "source": [
    "# Calculate correlations\n",
    "print(merged_data[['FDI_Lag_2', 'GDP_growth']].corr())\n",
    "print(merged_data[['FDI_Lag_3', 'GDP_growth']].corr())"
   ],
   "id": "d4333b212f87d4ff",
   "outputs": [
    {
     "name": "stdout",
     "output_type": "stream",
     "text": [
      "            FDI_Lag_2  GDP_growth\n",
      "FDI_Lag_2    1.000000   -0.098947\n",
      "GDP_growth  -0.098947    1.000000\n",
      "            FDI_Lag_3  GDP_growth\n",
      "FDI_Lag_3    1.000000   -0.057182\n",
      "GDP_growth  -0.057182    1.000000\n"
     ]
    }
   ],
   "execution_count": 33
  },
  {
   "metadata": {
    "ExecuteTime": {
     "end_time": "2024-10-13T07:42:47.328875Z",
     "start_time": "2024-10-13T07:42:47.107987Z"
    }
   },
   "cell_type": "code",
   "source": [
    "# Scatter plot with 2-year lag\n",
    "plt.figure(figsize=(10,6))\n",
    "sns.regplot(x='FDI_Lag_2', y='GDP_growth', data=merged_data)\n",
    "plt.title('FDI vs GDP Growth in India (2-year lag)')\n",
    "plt.xlabel('FDI Inflows (Current US$)')\n",
    "plt.ylabel('GDP Growth (%)')\n",
    "plt.show()"
   ],
   "id": "813a6fcb3e29232b",
   "outputs": [
    {
     "data": {
      "text/plain": [
       "<Figure size 1000x600 with 1 Axes>"
      ],
      "image/png": "[encoded data removed]"
     },
     "metadata": {},
     "output_type": "display_data"
    }
   ],
   "execution_count": 34
  },
  {
   "metadata": {
    "ExecuteTime": {
     "end_time": "2024-10-13T07:42:47.343260Z",
     "start_time": "2024-10-13T07:42:47.338543Z"
    }
   },
   "cell_type": "code",
   "source": [
    "# Apply a 3-year moving average to smooth FDI and GDP\n",
    "merged_data['FDI_MA'] = merged_data['FDI_inflows'].rolling(window=3).mean()\n",
    "merged_data['GDP_MA'] = merged_data['GDP_growth'].rolling(window=3).mean()\n"
   ],
   "id": "6c0ee1681337a23e",
   "outputs": [],
   "execution_count": 35
  },
  {
   "metadata": {
    "ExecuteTime": {
     "end_time": "2024-10-13T07:42:47.523353Z",
     "start_time": "2024-10-13T07:42:47.519783Z"
    }
   },
   "cell_type": "code",
   "source": [
    "# Drop NaNs after applying the moving averages\n",
    "merged_data = merged_data.dropna()\n"
   ],
   "id": "35d488c2f660c731",
   "outputs": [],
   "execution_count": 36
  },
  {
   "metadata": {
    "ExecuteTime": {
     "end_time": "2024-10-13T07:42:47.771958Z",
     "start_time": "2024-10-13T07:42:47.767935Z"
    }
   },
   "cell_type": "code",
   "source": [
    "# Calculate correlation for smoothed data\n",
    "print(merged_data[['FDI_MA', 'GDP_MA']].corr())"
   ],
   "id": "298fc95b7f5be450",
   "outputs": [
    {
     "name": "stdout",
     "output_type": "stream",
     "text": [
      "          FDI_MA    GDP_MA\n",
      "FDI_MA  1.000000 -0.020478\n",
      "GDP_MA -0.020478  1.000000\n"
     ]
    }
   ],
   "execution_count": 37
  },
  {
   "metadata": {
    "ExecuteTime": {
     "end_time": "2024-10-13T07:42:48.317219Z",
     "start_time": "2024-10-13T07:42:48.073302Z"
    }
   },
   "cell_type": "code",
   "source": [
    "# Scatter plot with moving averages\n",
    "plt.figure(figsize=(10,6))\n",
    "sns.regplot(x='FDI_MA', y='GDP_MA', data=merged_data)\n",
    "plt.title('FDI vs GDP Growth in India (Moving Averages)')\n",
    "plt.xlabel('FDI Inflows (Current US$)')\n",
    "plt.ylabel('GDP Growth (%)')\n",
    "plt.show()\n",
    "\n"
   ],
   "id": "48b0302e51a0ef31",
   "outputs": [
    {
     "data": {
      "text/plain": [
       "<Figure size 1000x600 with 1 Axes>"
      ],
      "image/png": "[encoded data removed]"
     },
     "metadata": {},
     "output_type": "display_data"
    }
   ],
   "execution_count": 38
  },
  {
   "metadata": {
    "ExecuteTime": {
     "end_time": "2024-10-13T07:42:48.463092Z",
     "start_time": "2024-10-13T07:42:48.327015Z"
    }
   },
   "cell_type": "code",
   "source": [
    "from sklearn.preprocessing import PolynomialFeatures\n",
    "from sklearn.linear_model import LinearRegression\n"
   ],
   "id": "52035fb9a8e4d6cd",
   "outputs": [],
   "execution_count": 39
  },
  {
   "metadata": {
    "ExecuteTime": {
     "end_time": "2024-10-13T07:42:48.513987Z",
     "start_time": "2024-10-13T07:42:48.510589Z"
    }
   },
   "cell_type": "code",
   "source": [
    "# Prepare data\n",
    "X = merged_data[['FDI_inflows']].values\n",
    "y = merged_data['GDP_growth'].values\n"
   ],
   "id": "ace16848c1443340",
   "outputs": [],
   "execution_count": 40
  },
  {
   "metadata": {
    "ExecuteTime": {
     "end_time": "2024-10-13T07:42:48.797121Z",
     "start_time": "2024-10-13T07:42:48.794562Z"
    }
   },
   "cell_type": "code",
   "source": [
    "# Transform for polynomial regression (degree 2 or 3)\n",
    "poly = PolynomialFeatures(degree=2)\n",
    "X_poly = poly.fit_transform(X)\n"
   ],
   "id": "89e42bc5d3f5990c",
   "outputs": [],
   "execution_count": 41
  },
  {
   "metadata": {
    "ExecuteTime": {
     "end_time": "2024-10-13T07:42:49.018900Z",
     "start_time": "2024-10-13T07:42:49.012134Z"
    }
   },
   "cell_type": "code",
   "source": [
    "# Fit the model\n",
    "model = LinearRegression().fit(X_poly, y)\n"
   ],
   "id": "35d6af52dac4a27b",
   "outputs": [],
   "execution_count": 42
  },
  {
   "metadata": {
    "ExecuteTime": {
     "end_time": "2024-10-13T07:42:49.412074Z",
     "start_time": "2024-10-13T07:42:49.408286Z"
    }
   },
   "cell_type": "code",
   "source": [
    "# Get R-squared to check the model fit\n",
    "print(f'R-squared: {model.score(X_poly, y)}')"
   ],
   "id": "a43f9e144bd5ebad",
   "outputs": [
    {
     "name": "stdout",
     "output_type": "stream",
     "text": [
      "R-squared: 0.40274973050236407\n"
     ]
    }
   ],
   "execution_count": 43
  },
  {
   "metadata": {
    "ExecuteTime": {
     "end_time": "2024-10-13T07:45:15.073320Z",
     "start_time": "2024-10-13T07:45:15.070431Z"
    }
   },
   "cell_type": "code",
   "source": [
    "from sklearn.preprocessing import PolynomialFeatures\n",
    "from sklearn.linear_model import LinearRegression\n",
    "import numpy as np"
   ],
   "id": "e2e70f30815514a9",
   "outputs": [],
   "execution_count": 44
  },
  {
   "metadata": {
    "ExecuteTime": {
     "end_time": "2024-10-13T07:45:18.728446Z",
     "start_time": "2024-10-13T07:45:18.725296Z"
    }
   },
   "cell_type": "code",
   "source": [
    "# Prepare the data\n",
    "X = merged_data[['FDI_inflows']].values  # Use FDI inflows as the independent variable\n",
    "y = merged_data['GDP_growth'].values  # GDP growth as the dependent variable\n"
   ],
   "id": "7989edd9f7d215b3",
   "outputs": [],
   "execution_count": 45
  },
  {
   "metadata": {
    "ExecuteTime": {
     "end_time": "2024-10-13T07:45:32.191620Z",
     "start_time": "2024-10-13T07:45:32.188673Z"
    }
   },
   "cell_type": "code",
   "source": [
    "# Transform the data for polynomial regression (degree 2)\n",
    "poly = PolynomialFeatures(degree=2)\n",
    "X_poly = poly.fit_transform(X)\n"
   ],
   "id": "43f4a8bdcf4ba5ba",
   "outputs": [],
   "execution_count": 46
  },
  {
   "metadata": {
    "ExecuteTime": {
     "end_time": "2024-10-13T07:46:08.181208Z",
     "start_time": "2024-10-13T07:46:08.177955Z"
    }
   },
   "cell_type": "code",
   "source": [
    "# Fit the polynomial regression model\n",
    "model = LinearRegression().fit(X_poly, y)\n"
   ],
   "id": "e0371a31122bf1f6",
   "outputs": [],
   "execution_count": 47
  },
  {
   "metadata": {
    "ExecuteTime": {
     "end_time": "2024-10-13T07:46:22.558942Z",
     "start_time": "2024-10-13T07:46:22.554944Z"
    }
   },
   "cell_type": "code",
   "source": [
    "# Get the R-squared value to evaluate the model fit\n",
    "print(f'R-squared: {model.score(X_poly, y)}')"
   ],
   "id": "5180b1f86b3cb102",
   "outputs": [
    {
     "name": "stdout",
     "output_type": "stream",
     "text": [
      "R-squared: 0.40274973050236407\n"
     ]
    }
   ],
   "execution_count": 48
  },
  {
   "metadata": {
    "ExecuteTime": {
     "end_time": "2024-10-13T07:46:35.191687Z",
     "start_time": "2024-10-13T07:46:35.188336Z"
    }
   },
   "cell_type": "code",
   "source": [
    "# If you want predictions:\n",
    "y_pred = model.predict(X_poly)\n",
    "\n",
    "# Compare actual vs predicted values\n",
    "print(np.vstack((y, y_pred)).T)"
   ],
   "id": "95bbbda35f732e70",
   "outputs": [
    {
     "name": "stdout",
     "output_type": "stream",
     "text": [
      "[[ 6.73582153  5.40290196]\n",
      " [ 6.00620363  5.40290196]\n",
      " [ 3.47573324  5.40290196]\n",
      " [ 7.2888929   5.40290196]\n",
      " [ 3.82073786  5.40290196]\n",
      " [ 5.25429922  5.40290196]\n",
      " [ 4.77656417  5.40290196]\n",
      " [ 3.96535563  5.40290196]\n",
      " [ 9.62778292  5.40290196]\n",
      " [ 5.94734333  5.40290196]\n",
      " [ 5.53345456  5.40290196]\n",
      " [ 1.05683143  5.42448599]\n",
      " [ 5.48239602  5.4835887 ]\n",
      " [ 4.75077622  5.56213217]\n",
      " [ 6.65892407  5.65820146]\n",
      " [ 7.57449184  5.96437085]\n",
      " [ 7.54952225  6.00583313]\n",
      " [ 4.04982085  6.32085909]\n",
      " [ 6.18441582  6.10749447]\n",
      " [ 8.84575556  5.98066515]\n",
      " [ 3.84099116  6.22768052]\n",
      " [ 4.82396627  6.46146748]\n",
      " [ 3.80397532  6.43290032]\n",
      " [ 7.86038148  6.07151009]\n",
      " [ 7.92293661  6.3508523 ]\n",
      " [ 7.92343062  6.58398526]\n",
      " [ 8.06073257  6.86315992]\n",
      " [ 7.66081507  7.24902912]\n",
      " [ 3.08669806  7.59693749]\n",
      " [ 7.86188883  7.93819068]\n",
      " [ 8.4975847   7.66498464]\n",
      " [ 5.2413162   7.62550101]\n",
      " [ 5.45638755  7.93768687]\n",
      " [ 6.3861064   7.30311745]\n",
      " [ 7.41022761  7.72519373]\n",
      " [ 7.99625379  4.92608212]\n",
      " [ 8.2563055   3.92060872]\n",
      " [ 6.79538342  6.87757039]\n",
      " [ 6.45385134  6.49943705]\n",
      " [ 3.87143694  4.60591858]\n",
      " [-5.77772471 -2.79654426]\n",
      " [ 9.68959249  7.12773563]\n",
      " [ 6.98703933  5.26432128]\n",
      " [ 7.58397112  7.88179179]]\n"
     ]
    }
   ],
   "execution_count": 49
  },
  {
   "metadata": {
    "ExecuteTime": {
     "end_time": "2024-10-13T07:46:58.708584Z",
     "start_time": "2024-10-13T07:46:58.551818Z"
    }
   },
   "cell_type": "code",
   "source": [
    "# Plot the polynomial regression line\n",
    "plt.figure(figsize=(10,6))\n",
    "plt.scatter(X, y, color='blue')\n",
    "plt.plot(X, y_pred, color='red')\n",
    "plt.title('Polynomial Regression (Degree 2)')\n",
    "plt.xlabel('FDI Inflows (Current US$)')\n",
    "plt.ylabel('GDP Growth (%)')\n",
    "plt.show()\n"
   ],
   "id": "4aa7ab3f94d1ec9",
   "outputs": [
    {
     "data": {
      "text/plain": [
       "<Figure size 1000x600 with 1 Axes>"
      ],
      "image/png": "[encoded data removed]"
     },
     "metadata": {},
     "output_type": "display_data"
    }
   ],
   "execution_count": 50
  },
  {
   "metadata": {
    "ExecuteTime": {
     "end_time": "2024-10-13T07:48:51.891804Z",
     "start_time": "2024-10-13T07:48:51.887082Z"
    }
   },
   "cell_type": "code",
   "source": [
    "# Prepare the data\n",
    "X = merged_data[['FDI_inflows']].values  # Use FDI inflows as the independent variable\n",
    "y = merged_data['GDP_growth'].values  # GDP growth as the dependent variable\n"
   ],
   "id": "8d19af7ba2e40445",
   "outputs": [],
   "execution_count": 51
  },
  {
   "metadata": {
    "ExecuteTime": {
     "end_time": "2024-10-13T07:48:53.279199Z",
     "start_time": "2024-10-13T07:48:53.212932Z"
    }
   },
   "cell_type": "code",
   "source": [
    "import pandas as pd\n",
    "from sklearn.model_selection import train_test_split\n",
    "from sklearn.linear_model import LinearRegression\n",
    "from sklearn.ensemble import RandomForestRegressor\n",
    "from sklearn.metrics import mean_squared_error, r2_score"
   ],
   "id": "40af107b926b8b64",
   "outputs": [],
   "execution_count": 52
  },
  {
   "metadata": {},
   "cell_type": "code",
   "outputs": [],
   "execution_count": null,
   "source": "",
   "id": "283e27483fc3d0fd"
  },
  {
   "metadata": {
    "ExecuteTime": {
     "end_time": "2024-10-13T07:49:03.723444Z",
     "start_time": "2024-10-13T07:49:03.719414Z"
    }
   },
   "cell_type": "code",
   "source": [
    "# Split the data into training and testing sets\n",
    "X_train, X_test, y_train, y_test = train_test_split(X, y, test_size=0.2, random_state=42)\n"
   ],
   "id": "ce21a41fa201578b",
   "outputs": [],
   "execution_count": 53
  },
  {
   "metadata": {},
   "cell_type": "code",
   "outputs": [],
   "execution_count": null,
   "source": "# Fit a linear regression model on the training data\n",
   "id": "1eaa91e360abd95c"
  },
  {
   "metadata": {
    "ExecuteTime": {
     "end_time": "2024-10-13T07:49:19.887246Z",
     "start_time": "2024-10-13T07:49:19.883708Z"
    }
   },
   "cell_type": "code",
   "source": [
    "# Train Linear Regression model\n",
    "linear_model = LinearRegression()\n",
    "linear_model.fit(X_train, y_train)\n",
    "y_pred_linear = linear_model.predict(X_test)"
   ],
   "id": "875f48e0cac7ce9d",
   "outputs": [],
   "execution_count": 54
  },
  {
   "metadata": {},
   "cell_type": "code",
   "outputs": [],
   "execution_count": null,
   "source": "",
   "id": "19efd13a74e3ac1"
  },
  {
   "metadata": {
    "ExecuteTime": {
     "end_time": "2024-10-13T07:49:26.497861Z",
     "start_time": "2024-10-13T07:49:26.433502Z"
    }
   },
   "cell_type": "code",
   "source": [
    "# Train Random Forest model\n",
    "rf_model = RandomForestRegressor(n_estimators=100, random_state=42)\n",
    "rf_model.fit(X_train, y_train)\n",
    "y_pred_rf = rf_model.predict(X_test)"
   ],
   "id": "85c9c6c6ec7a3bea",
   "outputs": [],
   "execution_count": 55
  },
  {
   "metadata": {
    "ExecuteTime": {
     "end_time": "2024-10-13T07:56:41.879755Z",
     "start_time": "2024-10-13T07:56:41.875687Z"
    }
   },
   "cell_type": "code",
   "source": [
    "# Evaluate the models   \n",
    "print('Linear Regression:')\n",
    "print(f'Mean Squared Error: {mean_squared_error(y_test, y_pred_linear)}')\n",
    "print(f'R-squared: {r2_score(y_test, y_pred_linear)}')\n",
    "print('\\nRandom Forest:')\n",
    "print(f'Mean Squared Error: {mean_squared_error(y_test, y_pred_rf)}')\n",
    "print(f'R-squared: {r2_score(y_test, y_pred_rf)}')\n"
   ],
   "id": "bd84757f2455abcc",
   "outputs": [
    {
     "name": "stdout",
     "output_type": "stream",
     "text": [
      "Linear Regression:\n",
      "Mean Squared Error: 22.298035007715853\n",
      "R-squared: -0.17161948759972834\n",
      "\n",
      "Random Forest:\n",
      "Mean Squared Error: 22.0271342985225\n",
      "R-squared: -0.15738538356384835\n"
     ]
    }
   ],
   "execution_count": 56
  },
  {
   "metadata": {
    "ExecuteTime": {
     "end_time": "2024-10-13T07:58:26.624849Z",
     "start_time": "2024-10-13T07:58:26.484035Z"
    }
   },
   "cell_type": "code",
   "source": [
    "# Plot the results\n",
    "plt.figure(figsize=(10,6))\n",
    "plt.scatter(X_test, y_test, color='blue', label='Actual')\n",
    "plt.scatter(X_test, y_pred_linear, color='red', label='Linear Regression')\n",
    "plt.scatter(X_test, y_pred_rf, color='green', label='Random Forest')\n",
    "plt.title('Linear Regression vs Random Forest')\n",
    "plt.xlabel('FDI Inflows (Current US$)')\n",
    "plt.ylabel('GDP Growth (%)')\n",
    "plt.legend()\n",
    "plt.show()\n",
    "\n",
    "\n"
   ],
   "id": "18cc45b66e5eb393",
   "outputs": [
    {
     "data": {
      "text/plain": [
       "<Figure size 1000x600 with 1 Axes>"
      ],
      "image/png": "[encoded data removed]"
     },
     "metadata": {},
     "output_type": "display_data"
    }
   ],
   "execution_count": 58
  },
  {
   "metadata": {
    "ExecuteTime": {
     "end_time": "2024-10-13T08:01:14.472786Z",
     "start_time": "2024-10-13T08:01:14.447963Z"
    }
   },
   "cell_type": "code",
   "source": [
    "# Save the merged data to a CSV file\n",
    "merged_data.to_csv('/home/hgidea/Desktop/Coding/Python/ai_ml practise/ml/eco/merged_data.csv', index=False)\n",
    "\n",
    "import joblib\n",
    "\n",
    "# Save the Random Forest model\n",
    "joblib.dump(rf_model, '/home/hgidea/Desktop/Coding/Python/ai_ml practise/ml/eco/random_forest_model.pkl')\n"
   ],
   "id": "7a99e5a5403fbe66",
   "outputs": [
    {
     "data": {
      "text/plain": [
       "['/home/hgidea/Desktop/Coding/Python/ai_ml practise/ml/eco/random_forest_model.pkl']"
      ]
     },
     "execution_count": 59,
     "metadata": {},
     "output_type": "execute_result"
    }
   ],
   "execution_count": 59
  },
  {
   "metadata": {
    "ExecuteTime": {
     "end_time": "2024-10-13T08:16:51.414941Z",
     "start_time": "2024-10-13T08:16:51.411037Z"
    }
   },
   "cell_type": "code",
   "source": [
    "from sklearn.preprocessing import StandardScaler, PolynomialFeatures\n",
    "\n",
    "# Extract the FDI_inflows column from merged_data\n",
    "fdi_inflows = merged_data['FDI_inflows'].values\n",
    "\n",
    "# Scale the FDI_inflows data\n",
    "scaler = StandardScaler()\n",
    "fdi_scaled = scaler.fit_transform(fdi_inflows.reshape(-1, 1))\n",
    "\n",
    "# Transform the scaled data using PolynomialFeatures\n",
    "poly = PolynomialFeatures(degree=2)\n",
    "fdi_poly = poly.fit_transform(fdi_scaled)\n",
    "\n",
    "# Predict using the model\n",
    "predictions = model.predict(fdi_poly)\n",
    "print(predictions)"
   ],
   "id": "d26a706c8a8cc983",
   "outputs": [
    {
     "name": "stdout",
     "output_type": "stream",
     "text": [
      "[5.40290196 5.40290196 5.40290196 5.40290196 5.40290196 5.40290196\n",
      " 5.40290196 5.40290196 5.40290196 5.40290196 5.40290196 5.40290196\n",
      " 5.40290196 5.40290196 5.40290196 5.40290196 5.40290196 5.40290196\n",
      " 5.40290196 5.40290196 5.40290196 5.40290196 5.40290196 5.40290196\n",
      " 5.40290196 5.40290196 5.40290196 5.40290196 5.40290196 5.40290196\n",
      " 5.40290196 5.40290196 5.40290196 5.40290196 5.40290196 5.40290196\n",
      " 5.40290196 5.40290196 5.40290196 5.40290196 5.40290196 5.40290196\n",
      " 5.40290196 5.40290196]\n"
     ]
    }
   ],
   "execution_count": 65
  },
  {
   "metadata": {},
   "cell_type": "code",
   "outputs": [],
   "execution_count": null,
   "source": [
    "from sklearn.preprocessing import PolynomialFeatures\n",
    "\n",
    "poly = PolynomialFeatures(degree=2)\n",
    "fdi_poly = poly.fit_transform(fdi_inflows.reshape(-1, 1))\n",
    "model.fit(fdi_poly, gdp_growth)\n",
    "model.predict(fdi_poly)"
   ],
   "id": "4dd09aa202eebb40"
  },
  {
   "metadata": {
    "ExecuteTime": {
     "end_time": "2024-10-13T08:16:07.387129Z",
     "start_time": "2024-10-13T08:16:07.364261Z"
    }
   },
   "cell_type": "code",
   "source": [
    "# Load the Random Forest model  \n",
    "loaded_model = joblib.load('/home/hgidea/Desktop/Coding/Python/ai_ml practise/ml/eco/random_forest_model.pkl')\n"
   ],
   "id": "e6a037cba4ba9db5",
   "outputs": [],
   "execution_count": 62
  },
  {
   "metadata": {
    "ExecuteTime": {
     "end_time": "2024-10-13T08:16:14.937213Z",
     "start_time": "2024-10-13T08:16:14.932727Z"
    }
   },
   "cell_type": "code",
   "source": [
    "# Load the merged data\n",
    "loaded_data = pd.read_csv('/home/hgidea/Desktop/Coding/Python/ai_ml practise/ml/eco/merged_data.csv')\n"
   ],
   "id": "cf2e0fcf44bdf2f6",
   "outputs": [],
   "execution_count": 63
  },
  {
   "metadata": {
    "ExecuteTime": {
     "end_time": "2024-10-13T08:16:35.757623Z",
     "start_time": "2024-10-13T08:16:35.748720Z"
    }
   },
   "cell_type": "code",
   "source": [
    "# Extract the FDI_inflows column from the loaded data\n",
    "fdi_inflows = loaded_data['FDI_inflows'].values\n",
    "\n",
    "# Scale the FDI_inflows data\n",
    "scaler = StandardScaler()\n",
    "fdi_scaled = scaler.fit_transform(fdi_inflows.reshape(-1, 1))\n",
    "\n",
    "# Predict using the loaded model\n",
    "loaded_model.predict(fdi_scaled)\n"
   ],
   "id": "307ef7754b6c6595",
   "outputs": [
    {
     "data": {
      "text/plain": [
       "array([5.45082038, 5.45082038, 5.45082038, 5.45082038, 5.45082038,\n",
       "       5.45082038, 5.45082038, 5.45082038, 5.45082038, 5.45082038,\n",
       "       5.45082038, 5.45082038, 5.45082038, 5.45082038, 5.45082038,\n",
       "       5.45082038, 5.45082038, 5.45082038, 5.45082038, 5.45082038,\n",
       "       5.45082038, 5.45082038, 5.45082038, 5.45082038, 5.45082038,\n",
       "       5.45082038, 5.45082038, 5.45082038, 5.45082038, 5.45082038,\n",
       "       5.45082038, 5.45082038, 5.45082038, 5.45082038, 5.45082038,\n",
       "       5.45082038, 5.45082038, 5.45082038, 5.45082038, 5.45082038,\n",
       "       5.45082038, 5.45082038, 5.45082038, 5.45082038])"
      ]
     },
     "execution_count": 64,
     "metadata": {},
     "output_type": "execute_result"
    }
   ],
   "execution_count": 64
  },
  {
   "metadata": {},
   "cell_type": "code",
   "outputs": [],
   "execution_count": null,
   "source": "",
   "id": "d4d7b01c5fdd32b8"
  }
 ],
 "metadata": {
  "kernelspec": {
   "display_name": "Python 3",
   "language": "python",
   "name": "python3"
  },
  "language_info": {
   "codemirror_mode": {
    "name": "ipython",
    "version": 2
   },
   "file_extension": ".py",
   "mimetype": "text/x-python",
   "name": "python",
   "nbconvert_exporter": "python",
   "pygments_lexer": "ipython2",
   "version": "2.7.6"
  }
 },
 "nbformat": 4,
 "nbformat_minor": 5
}
